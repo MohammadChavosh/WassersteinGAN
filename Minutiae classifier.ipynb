{
 "cells": [
  {
   "cell_type": "code",
   "execution_count": 113,
   "metadata": {},
   "outputs": [],
   "source": [
    "import numpy as np\n",
    "import os\n",
    "import random\n",
    "from sklearn.svm import LinearSVC\n",
    "from sklearn.model_selection import train_test_split\n",
    "from sklearn.metrics import accuracy_score"
   ]
  },
  {
   "cell_type": "code",
   "execution_count": 114,
   "metadata": {},
   "outputs": [],
   "source": [
    "max_minutiae_count = 70\n",
    "real_data_path = '/home/chavosh/extracted_minutiaes/real_from_HR/'\n",
    "generated_data_path = '/home/chavosh/extracted_minutiaes/{}' # 1 to 5"
   ]
  },
  {
   "cell_type": "code",
   "execution_count": 115,
   "metadata": {},
   "outputs": [],
   "source": [
    "# If I want to use other features:\n",
    "# Make string features categorical. Also, have a limit of features of a minutiae (and also total number of them)\n",
    "\n",
    "def extract_features(file_path, max_minutiae_count):\n",
    "    features = []\n",
    "    with open(file_path) as f:\n",
    "        for idx, line in enumerate(f):\n",
    "            line = line.strip()\n",
    "            if idx == 0:\n",
    "                parts = line.split()\n",
    "                w, h = float(parts[-2]), float(parts[-1])\n",
    "            if idx >= 4:\n",
    "                parts = line.replace(';', ',').split(\":\")\n",
    "                parts = [part.strip() for part in parts[1:]]\n",
    "                parts = [[tmp.strip() for tmp in part.split(',')] if part.find(',') >= 0 else part for part in parts]\n",
    "                tmp = []\n",
    "                tmp.append(float(parts[0][0]) / w)\n",
    "                tmp.append(float(parts[0][1]) / h)\n",
    "                tmp.append(np.sin(float(parts[1]) * np.pi / 16))\n",
    "                tmp.append(np.cos(float(parts[1]) * np.pi / 16))\n",
    "                features.append(tmp)\n",
    "#     random.shuffle(features)\n",
    "    features = features[:max_minutiae_count]\n",
    "    result = np.zeros((max_minutiae_count, 4))\n",
    "    if features:\n",
    "        result[:len(features), :] = features\n",
    "    return result"
   ]
  },
  {
   "cell_type": "code",
   "execution_count": 116,
   "metadata": {},
   "outputs": [
    {
     "name": "stdout",
     "output_type": "stream",
     "text": [
      "1\n",
      "2\n",
      "3\n",
      "4\n",
      "5\n"
     ]
    }
   ],
   "source": [
    "features = []\n",
    "labels = [] # 0 -> real, 1 -> fake\n",
    "for minutiae in os.listdir(real_data_path):\n",
    "    if minutiae[-4:] != '.min':\n",
    "        continue\n",
    "    features.append(extract_features(os.path.join(real_data_path, minutiae), max_minutiae_count))\n",
    "    labels.append(0)\n",
    "for i in range(1, 6):\n",
    "    print i\n",
    "    for minutiae in os.listdir(generated_data_path.format(i)):\n",
    "        if minutiae[-4:] != '.min':\n",
    "            continue\n",
    "        features.append(extract_features(os.path.join(generated_data_path.format(i), minutiae), max_minutiae_count))\n",
    "        labels.append(1)"
   ]
  },
  {
   "cell_type": "code",
   "execution_count": 117,
   "metadata": {},
   "outputs": [
    {
     "data": {
      "text/plain": [
       "(88804, 70, 4)"
      ]
     },
     "execution_count": 117,
     "metadata": {},
     "output_type": "execute_result"
    }
   ],
   "source": [
    "features = np.array(features)\n",
    "features.shape"
   ]
  },
  {
   "cell_type": "code",
   "execution_count": 118,
   "metadata": {},
   "outputs": [
    {
     "data": {
      "text/plain": [
       "(88804, 280)"
      ]
     },
     "execution_count": 118,
     "metadata": {},
     "output_type": "execute_result"
    }
   ],
   "source": [
    "features = features.reshape((features.shape[0], -1))\n",
    "features.shape"
   ]
  },
  {
   "cell_type": "code",
   "execution_count": 119,
   "metadata": {},
   "outputs": [
    {
     "name": "stdout",
     "output_type": "stream",
     "text": [
      "0.6641292434274733 0.6517273996666817\n"
     ]
    }
   ],
   "source": [
    "X_train, X_test, y_train, y_test = train_test_split(features, labels, test_size=0.25, random_state=42)\n",
    "clf = LinearSVC()\n",
    "clf.fit(X_train, y_train)\n",
    "train_acc = accuracy_score(y_train, clf.predict(X_train))\n",
    "test_acc = accuracy_score(y_test, clf.predict(X_test))\n",
    "\n",
    "print train_acc, test_acc"
   ]
  },
  {
   "cell_type": "markdown",
   "metadata": {},
   "source": [
    "#### 20 minutiae -> ~ 0.65\n",
    "#### 50 minutiae -> ~ 0.65\n",
    "#### 70 minutiae -> ~ 0.65"
   ]
  },
  {
   "cell_type": "code",
   "execution_count": null,
   "metadata": {},
   "outputs": [],
   "source": []
  }
 ],
 "metadata": {
  "kernelspec": {
   "display_name": "Python 2",
   "language": "python",
   "name": "python2"
  },
  "language_info": {
   "codemirror_mode": {
    "name": "ipython",
    "version": 2
   },
   "file_extension": ".py",
   "mimetype": "text/x-python",
   "name": "python",
   "nbconvert_exporter": "python",
   "pygments_lexer": "ipython2",
   "version": "2.7.12"
  }
 },
 "nbformat": 4,
 "nbformat_minor": 2
}
